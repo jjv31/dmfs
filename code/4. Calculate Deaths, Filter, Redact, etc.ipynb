{
 "cells": [
  {
   "cell_type": "markdown",
   "id": "3ea9503b-1a78-4156-995d-77eae48e55f9",
   "metadata": {},
   "source": [
    "# Fourth Notebook: Calculate Deaths, Polish Datasets, Redact, & Apply Filter."
   ]
  },
  {
   "cell_type": "markdown",
   "id": "38720485-efff-408b-aac3-69856e318ac7",
   "metadata": {},
   "source": [
    "Notebook calculates the deaths 365 days before and after each officer was slain (DMFS Officers) or Civilian was fatally shot (DMFS Civilians), with respect to both officers and civilians. It also polishes the dataframe, reordering columns and making names more intuitive and consistent; rediacts DM-FS; and applies a filtering system to make it more user friendly."
   ]
  },
  {
   "cell_type": "markdown",
   "id": "d2a71c9e-6cd2-45f1-a88b-03d41ea55a5c",
   "metadata": {
    "jp-MarkdownHeadingCollapsed": true
   },
   "source": [
    "# 0 | Imports"
   ]
  },
  {
   "cell_type": "code",
   "execution_count": null,
   "id": "245366a7-0173-41ef-a776-991f3ae4bbd1",
   "metadata": {},
   "outputs": [],
   "source": [
    "import numpy as np\n",
    "import pandas as pd\n",
    "from tqdm import tqdm\n",
    "from collections import Counter # Unique value ID\n",
    "\n",
    "from thefuzz import fuzz # Fuzzy Search\n",
    "import math\n",
    "import os\n",
    "\n",
    "# Generate random ID\n",
    "import uuid\n",
    "import random"
   ]
  },
  {
   "cell_type": "code",
   "execution_count": null,
   "id": "a2d5ff35-fdcb-4f18-8642-cc876e218379",
   "metadata": {},
   "outputs": [],
   "source": [
    "pd.set_option('display.max_rows', None)\n",
    "pd.set_option('display.max_columns', None)"
   ]
  },
  {
   "cell_type": "code",
   "execution_count": null,
   "id": "c8070d68-f490-480e-a19a-f25dff6cba61",
   "metadata": {},
   "outputs": [],
   "source": [
    "import warnings\n",
    "warnings.simplefilter(action='ignore', category=FutureWarning)"
   ]
  },
  {
   "cell_type": "markdown",
   "id": "9261d743-5020-481b-b64a-44a67ce1fe24",
   "metadata": {
    "jp-MarkdownHeadingCollapsed": true
   },
   "source": [
    "# 1 | Calculate (i) Cops that Civs Fatally shot and (ii) Civs that Cops Fatally Shot in both databases"
   ]
  },
  {
   "cell_type": "markdown",
   "id": "eb133d31-1ad2-4eb8-b0f4-adcb7057235e",
   "metadata": {},
   "source": [
    "### 1.1 | Aux Functions"
   ]
  },
  {
   "cell_type": "code",
   "execution_count": null,
   "id": "25eb9fa6-29ad-42e3-8da3-a38c945e305b",
   "metadata": {},
   "outputs": [],
   "source": [
    "# Function creates a dictionary of lists. Each lists stores the result of calculations for dead civs and dead cops in both DMFS Civs and DMFS Cops Databases\n",
    "\n",
    "# Resets values of value dict by returning new dictionary\n",
    "def initialize_value_dict():\n",
    "    return {\"dead_cops_365_days_before_all\" : [], \"dead_cops_365_days_before_fatal_shootings\" : [], \"dead_cops_365_days_after_all\" : [], \"dead_cops_365_days_after_shootings\" : [],\n",
    "              \"dead_civs_365_days_before\" : [], \"dead_civs_365_days_after\" : [],}\n",
    "\n",
    "\n",
    "# Adds nev values to value dict\n",
    "def add_to_value_dict(deaths_before, deaths_before_shootings, deaths_after, deaths_after_shootings, dead_civs_before, dead_civs_after):\n",
    "    values_dict[\"dead_cops_365_days_before_all\"].append(deaths_before)\n",
    "    values_dict[\"dead_cops_365_days_before_fatal_shootings\"].append(deaths_before_shootings)\n",
    "    values_dict[\"dead_cops_365_days_after_all\"].append(deaths_after)\n",
    "    values_dict[\"dead_cops_365_days_after_shootings\"].append(deaths_after_shootings)\n",
    "    values_dict[\"dead_civs_365_days_before\"].append(dead_civs_before)\n",
    "    values_dict[\"dead_civs_365_days_after\"].append(dead_civs_after)"
   ]
  },
  {
   "cell_type": "markdown",
   "id": "f195ebe7-1725-4c74-af4d-65f4eec0b6fe",
   "metadata": {},
   "source": [
    "### 1.2 | Loads Datasets"
   ]
  },
  {
   "cell_type": "code",
   "execution_count": null,
   "id": "c319dd27-2d5d-4e78-8cbb-64cc5babdd84",
   "metadata": {
    "scrolled": true
   },
   "outputs": [],
   "source": [
    "# Loads Main DFs\n",
    "DIR_INPUT = \"res/3.1 - Penultimate Databases/\"\n",
    "df_civs = pd.read_csv(f\"{DIR_INPUT}DMFS Civilians.csv\")\n",
    "df_cops = pd.read_csv(f\"{DIR_INPUT}DMFS Officers.csv\")\n",
    "\n",
    "# Converts date to format Pnadas can read\n",
    "df_civs[\"date\"] = pd.to_datetime(df_civs[\"date\"])\n",
    "df_cops[\"DEATH_DATE\"] = pd.to_datetime(df_cops[\"DEATH_DATE\"])\n",
    "\n",
    "# Sort DFs so earliest date comes first\n",
    "df_civs = df_civs.sort_values(by=[\"agency_responsible_1_ORI9\", \"date\"], ascending=[True, True])\n",
    "df_cops = df_cops.sort_values(by=[\"ORI9\", \"DEATH_DATE\"], ascending=[False, True])"
   ]
  },
  {
   "cell_type": "markdown",
   "id": "87ae10a8-acd3-433c-8458-2b2938062203",
   "metadata": {},
   "source": [
    "### 1.3 | DMFS OFFICERS: Calculate Dead Cops and Dead Civs before and after Each Cop's Death"
   ]
  },
  {
   "cell_type": "code",
   "execution_count": null,
   "id": "cc55eb20-4a58-46b8-b430-291ef07ba7db",
   "metadata": {},
   "outputs": [],
   "source": [
    "# Initialize value_dict, which stores values to add to our database\n",
    "values_dict = initialize_value_dict()\n",
    "\n",
    "# Insert DEAD COPS columns after DEAD_COP_RANKS\n",
    "index = df_cops.columns.get_loc(\"DEAD_COP_RANKS\")\n",
    "df_cops.insert(index + 1, \"COPS_AGENCY_LOST_365_DAYS_BEFORE_DEATH_ALL\", -1)\n",
    "df_cops.insert(index + 2, \"COPS_AGENCY_LOST_365_DAYS_BEFORE_DEATH_FATAL_SHOOTINGS_ONLY\", -1)\n",
    "df_cops.insert(index + 3, \"COPS_AGENCY_LOST_365_DAYS_AFTER_DEATH\", -1)\n",
    "df_cops.insert(index + 4, \"COPS_AGENCY_LOST_365_DAYS_AFTER_DEATH_FATAL_SHOOTINGS_ONLY\", -1)\n",
    "\n",
    "# Insert DEAD CIVS columns after KILLER HISTORY\n",
    "index = df_cops.columns.get_loc(\"KILLER_CRIM_HISTORY\")\n",
    "df_cops.insert(index + 1, \"CIVILIANS_FATALLY_SHOT_BY_AGENCY_365_DAYS_BEFORE_DEATH\", -1)\n",
    "df_cops.insert(index + 2, \"CIVILIANS_FATALLY_SHOT_BY_AGENCY_365_DAYS_AFTER_DEATH\", -1)\n",
    "\n",
    "df_cops.head(0)"
   ]
  },
  {
   "cell_type": "code",
   "execution_count": null,
   "id": "2e0f1f44-44bf-41c4-88ca-c2c40440e19e",
   "metadata": {},
   "outputs": [],
   "source": [
    "# Loops through each row of DMFS - Officers and calculates officers who died 365 days before & after an officer death\n",
    "for i, ind_death in tqdm(df_cops.iterrows(), total=df_cops.shape[0] ):\n",
    "    death_date = ind_death[\"DEATH_DATE\"]\n",
    "\n",
    "    # Ignores agencies that don't have a valid identifier (ORI9 code)\n",
    "    if ind_death[\"ORI9\"] == \"-1\":\n",
    "        add_to_value_dict(-1, -1, -1, -1, -1, -1)\n",
    "        continue\n",
    "        \n",
    "    # Date Range\n",
    "    date_one_year_before_death = death_date - pd.Timedelta(days=365)\n",
    "    date_one_year_after_death = death_date + pd.Timedelta(days=365)\n",
    "    min_date = pd.to_datetime('2015-12-31') # The earliest date needed to measure a 365 day period before a death. Note the earliest date could be 1/1/2015.\n",
    "    max_date = pd.to_datetime('2020-01-01') # The latest date needed to measure a 365 day period ater a death. Note the latest date could be 12/31/2020.\n",
    "    \n",
    "    # Filters databases to only include officer/civ deaths applicable to relevant agency\n",
    "    df_cops_filtered = df_cops[(ind_death[\"ORI9\"] == df_cops[\"ORI9\"]) ] # List of officer deaths tha tthe LEA Experienced\n",
    "    df_civs_filtered = df_civs[ (ind_death[\"ORI9\"] == df_civs[\"agency_responsible_1_ORI9\"]) | (ind_death[\"ORI9\"] == df_civs[\"agency_responsible_2_ORI9\"]) |  # List civillians LEA fatally shot \n",
    "                                (ind_death[\"ORI9\"] == df_civs[\"agency_responsible_3_ORI9\"]) | (ind_death[\"ORI9\"] == df_civs[\"agency_responsible_4_ORI9\"]) | \n",
    "                                (ind_death[\"ORI9\"] == df_civs[\"agency_responsible_5_ORI9\"]) ]\n",
    "\n",
    "    # Death Count 365 days BEFORE death\n",
    "    # The earliest datapoint was measured starting from 1/1/2015. Thus, any datapoint on/before 12/31/2015 can't accurately have a 365 day measurement period BEFORE death. Set vals to -1\n",
    "    if death_date < min_date: # death date before min date\n",
    "        dead_cops_before, dead_cops_before_shootings, dead_civs_before = -1, -1, -1\n",
    "    else:\n",
    "        dead_civs_before = df_civs_filtered[(df_civs_filtered[\"date\"] >= date_one_year_before_death) & \n",
    "                                   (df_civs_filtered[\"date\"] < death_date)].shape[0] # Note that civs doesn't have a dead_civ count: each row is 1 dead civ, hence why we use 'shape' over 'sum()'\n",
    "        \n",
    "        dead_cops_before = df_cops_filtered[(df_cops_filtered[\"DEATH_DATE\"] >= date_one_year_before_death) & \n",
    "                                   (df_cops_filtered[\"DEATH_DATE\"] < death_date)][\"DEAD_COP_COUNT\"].sum()\n",
    "\n",
    "        dead_cops_before_shootings = df_cops_filtered[(df_cops_filtered[\"DEATH_DATE\"] >= date_one_year_before_death) & \n",
    "                                             (df_cops_filtered[\"DEATH_DATE\"] < death_date) & \n",
    "                                             (df_cops_filtered[\"KILLERS_WEAPON\"] == \"gun\")][\"DEAD_COP_COUNT\"].sum()\n",
    "\n",
    "    # Death Count 365 days AFTER death\n",
    "    # The latest date that could've been entered is from 12/31/2020. Thus, any datapoints on/after 1/1/2020 can't have a 365 day measurement period AFTER death. Set vals to -1\n",
    "    if death_date > max_date: # death date after max date\n",
    "        dead_cops_after, count_after_shootings, dead_civs_after= -1, -1, -1\n",
    "    else:\n",
    "        dead_civs_after = df_civs_filtered[(df_civs_filtered[\"date\"] > death_date) & \n",
    "                                   (df_civs_filtered[\"date\"] <= date_one_year_after_death)].shape[0] \n",
    "\n",
    "        dead_cops_after = df_cops_filtered[(df_cops_filtered[\"DEATH_DATE\"] > death_date) & \n",
    "                                  (df_cops_filtered[\"DEATH_DATE\"] <= date_one_year_after_death )][\"DEAD_COP_COUNT\"].sum()\n",
    "\n",
    "        dead_cops_after_shootings = df_cops_filtered[(df_cops_filtered[\"DEATH_DATE\"] > death_date) & \n",
    "                                            (df_cops_filtered[\"DEATH_DATE\"] <= date_one_year_after_death) & \n",
    "                                            (df_cops_filtered[\"KILLERS_WEAPON\"] == \"gun\")][\"DEAD_COP_COUNT\"].sum()\n",
    "\n",
    "    # Add all values to dictionary, to be added to dataframe\n",
    "    add_to_value_dict(dead_cops_before, dead_cops_before_shootings, dead_cops_after, dead_cops_after_shootings, dead_civs_before, dead_civs_after)"
   ]
  },
  {
   "cell_type": "code",
   "execution_count": null,
   "id": "5028fdbd-004c-47e3-a2d3-b1c9a44a6f1b",
   "metadata": {},
   "outputs": [],
   "source": [
    "# Adds stored values to dataframe\n",
    "\n",
    "# Dead Cops\n",
    "df_cops[\"COPS_AGENCY_LOST_365_DAYS_BEFORE_DEATH_ALL\"] = values_dict[\"dead_cops_365_days_before_all\"]\n",
    "df_cops[\"COPS_AGENCY_LOST_365_DAYS_BEFORE_DEATH_FATAL_SHOOTINGS_ONLY\"] =  values_dict[\"dead_cops_365_days_before_fatal_shootings\"]\n",
    "df_cops[\"COPS_AGENCY_LOST_365_DAYS_AFTER_DEATH\"] =  values_dict[\"dead_cops_365_days_after_all\"]\n",
    "df_cops[\"COPS_AGENCY_LOST_365_DAYS_AFTER_DEATH_FATAL_SHOOTINGS_ONLY\"] =  values_dict[\"dead_cops_365_days_after_shootings\"]\n",
    "\n",
    "# Dead Civs\n",
    "df_cops[\"CIVILIANS_FATALLY_SHOT_BY_AGENCY_365_DAYS_BEFORE_DEATH\"] =  values_dict[\"dead_civs_365_days_before\"]\n",
    "df_cops[\"CIVILIANS_FATALLY_SHOT_BY_AGENCY_365_DAYS_AFTER_DEATH\"] =  values_dict[\"dead_civs_365_days_after\"]"
   ]
  },
  {
   "cell_type": "markdown",
   "id": "08b170d1-c737-4fbf-9bfe-ebbd69b7b0d7",
   "metadata": {},
   "source": [
    "### 1.4 | DMFS CIVILIANS: Calculate Dead Cops and Dead Civs before and after Each Cop's Death"
   ]
  },
  {
   "cell_type": "code",
   "execution_count": null,
   "id": "2e079830-c1fd-4a5f-ad3f-c79b67cfc8a2",
   "metadata": {},
   "outputs": [],
   "source": [
    "# Adds dead cops/dead civ columns to EACH RESPONSIBLE LEA in dmfs civs\n",
    "\n",
    "def add_cols_to_df_civ(agency_responsible_col):\n",
    "    # Insert DEAD Civs after LEA Type\n",
    "    index = df_civs.columns.get_loc(f\"{agency_responsible_col}_FIPS_COUNTY\")\n",
    "    df_civs.insert(index + 1, f\"civilians_fatally_shot_by_{agency_responsible_col}_365_days_before_death\", -1)\n",
    "    df_civs.insert(index + 2, f\"civilians_fatally_shot_by_{agency_responsible_col}_365_days_after_death\", -1)\n",
    "\n",
    "    # Insert number of cops that civ killed AFTER dead civs\n",
    "    df_civs.insert(index + 3, f\"cops_from_{agency_responsible_col}_that_civillians_killed_365_days_before_death_for_all_deaths\", -1)\n",
    "    df_civs.insert(index + 4, f\"cops_from_{agency_responsible_col}_that_civillians_killed_365_days_before_death_for_fatal_shootings_only\", -1)\n",
    "    df_civs.insert(index + 5, f\"cops_from_{agency_responsible_col}_that_civillians_killed_365_days_after_death_for_all_deaths\", -1)\n",
    "    df_civs.insert(index + 6,  f\"cops_from_{agency_responsible_col}_that_civillians_killed_365_days_after_death_for_fatal_shootings_only\", -1)\n"
   ]
  },
  {
   "cell_type": "code",
   "execution_count": null,
   "id": "6ba592ea-4e9f-4d61-8ca4-b6d1e8d7dd5b",
   "metadata": {
    "scrolled": true
   },
   "outputs": [],
   "source": [
    "for agency_responsible_num in range (1,6):\n",
    "\n",
    "    # Print status\n",
    "    agency_responsible_col = f\"agency_responsible_{agency_responsible_num}\"\n",
    "    print(f\"Calculating dead civs & dead cops for [{agency_responsible_col}]\")\n",
    "\n",
    "    # Crucial Inits\n",
    "    add_cols_to_df_civ(agency_responsible_col) # Adds dead cops / dead civs columns to DM-FS\n",
    "    values_dict = initialize_value_dict()\n",
    "\n",
    "    # **************************************************************************************************************************\n",
    "    # Loops through each row, focusing on agency_responsible_1 during first loop, agency_responsible_2 during second loop, etc. \n",
    "    # **************************************************************************************************************************\n",
    "    \n",
    "    for i, ind_row in tqdm(df_civs.iterrows(), total=len(df_civs)):\n",
    "\n",
    "        # Init key variables\n",
    "        current_ORI = ind_row[f\"{agency_responsible_col}_ORI9\"]\n",
    "        death_date = ind_row[\"date\"]\n",
    "        \n",
    "        # Ignores agencies that don't have a valid identifier (ORI9 code)\n",
    "        if current_ORI == \"-1\":\n",
    "            add_to_value_dict(-1, -1, -1, -1, -1, -1)\n",
    "            continue\n",
    "\n",
    "        # Calculate Date Range\n",
    "        date_one_year_before_death = death_date - pd.Timedelta(days=365)\n",
    "        date_one_year_after_death = death_date + pd.Timedelta(days=365)\n",
    "        min_date = pd.to_datetime('2015-12-31') # The earliest date needed to measure a 365 day period before a death. Note the earliest date could be 1/1/2015.\n",
    "        max_date = pd.to_datetime('2020-01-01') # The latest date needed to measure a 365 day period ater a death. Note the latest date could be 12/31/2020.\n",
    "    \n",
    "        # Filters databases to only include officer/civ deaths applicable to relevant agency\n",
    "        df_cops_filtered = df_cops[(current_ORI == df_cops[\"ORI9\"]) ] # List of officer deaths that the LEA Experienced\n",
    "        df_civs_filtered = df_civs[ (current_ORI == df_civs[\"agency_responsible_1_ORI9\"]) | (current_ORI == df_civs[\"agency_responsible_2_ORI9\"]) |  # List civillians LEA fatally shot \n",
    "                                    (current_ORI == df_civs[\"agency_responsible_3_ORI9\"]) | (current_ORI == df_civs[\"agency_responsible_4_ORI9\"]) | \n",
    "                                    (current_ORI == df_civs[\"agency_responsible_5_ORI9\"]) ]\n",
    "\n",
    "        # Death Count 365 days BEFORE death\n",
    "        # The earliest datapoint was measured starting from 1/1/2015. Thus, any datapoint on/before 12/31/2015 can't accurately have a 365 day measurement period BEFORE death. Set vals to -1\n",
    "        if death_date < min_date: # death date before min date\n",
    "            dead_cops_before, dead_cops_before_shootings, dead_civs_before = -1, -1, -1\n",
    "        else:\n",
    "            dead_civs_before = df_civs_filtered[(df_civs_filtered[\"date\"] >= date_one_year_before_death) & \n",
    "                                       (df_civs_filtered[\"date\"] < death_date)].shape[0] # Note that civs doesn't have a dead_civ count: each row is 1 dead civ, hence why we use 'shape' over 'sum()'\n",
    "        \n",
    "            dead_cops_before = df_cops_filtered[(df_cops_filtered[\"DEATH_DATE\"] >= date_one_year_before_death) & \n",
    "                                       (df_cops_filtered[\"DEATH_DATE\"] < death_date) & (df_cops_filtered[\"EXCLUDE_DEATH\"] != True) ][\"DEAD_COP_COUNT\"].sum()\n",
    "\n",
    "            dead_cops_before_shootings = df_cops_filtered[(df_cops_filtered[\"DEATH_DATE\"] >= date_one_year_before_death) & \n",
    "                                                 (df_cops_filtered[\"DEATH_DATE\"] < death_date) & (df_cops_filtered[\"EXCLUDE_DEATH\"] != True) & \n",
    "                                                 (df_cops_filtered[\"KILLERS_WEAPON\"] == \"gun\")][\"DEAD_COP_COUNT\"].sum()\n",
    "\n",
    "\n",
    "            # Death Count 365 days AFTER death\n",
    "        # The latest date that could've been entered is from 12/31/2020. Thus, any datapoints on/after 1/1/2020 can't have a 365 day measurement period AFTER death. Set vals to -1\n",
    "        if death_date > max_date: # death date after max date\n",
    "            dead_cops_after, count_after_shootings, dead_civs_after= -1, -1, -1\n",
    "        else:\n",
    "            dead_civs_after = df_civs_filtered[(df_civs_filtered[\"date\"] > death_date) & \n",
    "                                       (df_civs_filtered[\"date\"] <= date_one_year_after_death)].shape[0] \n",
    "\n",
    "            dead_cops_after = df_cops_filtered[(df_cops_filtered[\"DEATH_DATE\"] > death_date) & \n",
    "                                      (df_cops_filtered[\"DEATH_DATE\"] <= date_one_year_after_death ) & (df_cops_filtered[\"EXCLUDE_DEATH\"] != True) ][\"DEAD_COP_COUNT\"].sum()\n",
    "\n",
    "            dead_cops_after_shootings = df_cops_filtered[(df_cops_filtered[\"DEATH_DATE\"] > death_date) & \n",
    "                                                (df_cops_filtered[\"DEATH_DATE\"] <= date_one_year_after_death) & (df_cops_filtered[\"EXCLUDE_DEATH\"] != True) & \n",
    "                                                (df_cops_filtered[\"KILLERS_WEAPON\"] == \"gun\")][\"DEAD_COP_COUNT\"].sum()\n",
    "\n",
    "        # Add all values to dictionary, to be added to dataframe\n",
    "        add_to_value_dict(dead_cops_before, dead_cops_before_shootings, dead_cops_after, dead_cops_after_shootings, dead_civs_before, dead_civs_after)\n",
    "    \n",
    "    # **************************************************************************************************************************\n",
    "    # Adds Results of Loop for agency_responsible_X to DMFS\n",
    "    # **************************************************************************************************************************\n",
    "\n",
    "    # Dead Cops\n",
    "    df_civs[f\"cops_from_{agency_responsible_col}_that_civillians_killed_365_days_before_death_for_all_deaths\"] = values_dict[\"dead_cops_365_days_before_all\"]\n",
    "    df_civs[f\"cops_from_{agency_responsible_col}_that_civillians_killed_365_days_before_death_for_fatal_shootings_only\"] =  values_dict[\"dead_cops_365_days_before_fatal_shootings\"]\n",
    "    df_civs[f\"cops_from_{agency_responsible_col}_that_civillians_killed_365_days_after_death_for_all_deaths\"] = values_dict[\"dead_cops_365_days_after_all\"]\n",
    "    df_civs[f\"cops_from_{agency_responsible_col}_that_civillians_killed_365_days_after_death_for_fatal_shootings_only\"] =  values_dict[\"dead_cops_365_days_after_shootings\"]\n",
    "\n",
    "    # Dead Civs\n",
    "    df_civs[ f\"civilians_fatally_shot_by_{agency_responsible_col}_365_days_before_death\"] =  values_dict[\"dead_civs_365_days_before\"]\n",
    "    df_civs[ f\"civilians_fatally_shot_by_{agency_responsible_col}_365_days_after_death\"] =  values_dict[\"dead_civs_365_days_after\"]"
   ]
  },
  {
   "cell_type": "markdown",
   "id": "13099d4f-d99c-4104-8397-9c6c1e097b43",
   "metadata": {
    "jp-MarkdownHeadingCollapsed": true
   },
   "source": [
    "# 2 | Polish DMFS"
   ]
  },
  {
   "cell_type": "markdown",
   "id": "35125f73-bef3-4ba6-84cf-29ffe10712c9",
   "metadata": {},
   "source": [
    "### 2.1 | Aux Functions"
   ]
  },
  {
   "cell_type": "code",
   "execution_count": null,
   "id": "6bff6b00-b411-4985-818b-84039f7c4cef",
   "metadata": {},
   "outputs": [],
   "source": [
    "# Moves columns within a Pandas dataframe so 'col_name_to_move' appears after 'col_that_col_name_to_move_will_be_placed_after'\n",
    "\n",
    "def move_column(df, col_name_to_move, col_that_col_name_to_move_will_be_placed_after):\n",
    "\n",
    "    cols = df.columns.tolist()\n",
    "    cols.remove(col_name_to_move)\n",
    "\n",
    "    # Find the index of \"region\" and insert \"lea_name\" right after it\n",
    "    index = cols.index(col_that_col_name_to_move_will_be_placed_after) + 1\n",
    "    cols.insert(index, col_name_to_move)\n",
    "\n",
    "    # Returns list of re-ordered cols\n",
    "    return cols"
   ]
  },
  {
   "cell_type": "markdown",
   "id": "a710f5fa-bae4-4e83-89a6-1ff81e8b926b",
   "metadata": {},
   "source": [
    "### 2.2 | DM-FS: Civillians. Makes a few brief corrections (as not many are neaded)"
   ]
  },
  {
   "cell_type": "code",
   "execution_count": null,
   "id": "77f73447-83aa-49c6-9836-561075f54fc6",
   "metadata": {},
   "outputs": [],
   "source": [
    "# Renames some columns to make them more consistent & intuitive\n",
    "df_civs =  df_civs.rename(columns={\n",
    "    'erroneous_inclusion_fe': 'contested_inclusion_fe',\n",
    "    'erroneous_inclusion_mpv': 'contested_inclusion_mpv',\n",
    "    'erroneous_inclusion_wp': 'contested_inclusion_wp',\n",
    "    'date' : 'death_date',\n",
    "})"
   ]
  },
  {
   "cell_type": "code",
   "execution_count": null,
   "id": "0658344f-d417-4f75-8854-49e3d67075c4",
   "metadata": {},
   "outputs": [],
   "source": [
    "# Excel messed up our dataset such that all \"N/A\" strings for unknown agency types, local governance names, and districts appears as null/NaN values. Let's fix this\n",
    "\n",
    "# First, let's fill any absent URLs with filler text\n",
    "df_civs[\"URL_FE\"].fillna(\"No URL Avaliable\", inplace=True) \n",
    "df_civs[\"URL_MPV\"].fillna(\"No URL Avaliable\", inplace=True) \n",
    "df_civs[\"URL_MANUAL_CORRECTION\"].fillna(\"No URL Avaliable\", inplace=True) \n",
    "\n",
    "# Second, any remaining NA values should be filled with \"Not Applicable\". In other words, these should only appear either if (i) the agency did not have an ORI, hence CSLLEA info couldn't be pulled \n",
    "# or (ii) if there was no agency responsible #2, #3, #4, etc.\n",
    "df_civs.fillna(\"Not Applicable\", inplace=True) "
   ]
  },
  {
   "cell_type": "code",
   "execution_count": null,
   "id": "f596932f-6b26-4ceb-9918-6a4b0bfe1fe4",
   "metadata": {
    "scrolled": true
   },
   "outputs": [],
   "source": [
    "assert( df_civs.isnull().sum().all() == 0)\n",
    "print(\"Assertin passed. There are no more unknown / NaN / null values in DMFS - Civs\")"
   ]
  },
  {
   "cell_type": "markdown",
   "id": "0189eaff-da98-4899-ad61-898ac11f9795",
   "metadata": {},
   "source": [
    "### 2.3 | DM-FS: Officers: Add Anomolies via Anomolies Table"
   ]
  },
  {
   "cell_type": "code",
   "execution_count": null,
   "id": "34aab013-eb57-49e3-97c7-e9e12a1c19f3",
   "metadata": {},
   "outputs": [],
   "source": [
    "# Loads DF of issues with officers\n",
    "DIR_OFFICER_ANOMOLIES = \"../Fatally Shot Officers/\"\n",
    "\n",
    "df_cop_anomolies = pd.read_csv(f\"{DIR_OFFICER_ANOMOLIES}DM-FS Officers Supplement - Table of Anomolies.csv\")\n",
    "df_cop_anomolies[\"Death_Date_Final\"] = pd.to_datetime(df_cop_anomolies[\"Death_Date_Final\"])\n",
    "df_cop_anomolies[\"Death_Date_Original\"] = pd.to_datetime(df_cop_anomolies[\"Death_Date_Original\"])\n",
    "df_cop_anomolies.head(1)"
   ]
  },
  {
   "cell_type": "code",
   "execution_count": null,
   "id": "ac4822f0-d3f0-48b8-b0e2-e84e429a3f62",
   "metadata": {},
   "outputs": [],
   "source": [
    "# Drops original anomoly flags\n",
    "df_cops.drop(columns=[\"DATE_CORRECTION\", \"OTHER_ANOMOLY\", \"EXCLUDE_DEATH\"], inplace = True)\n",
    "\n",
    "# Creates new columns: one for anomolies, another for whether the death should be flagged for exclusion\n",
    "df_cops[\"ANOMOLY\"] = \"None\"\n",
    "df_cops[\"EXCLUDE_DEATH\"] = False\n",
    "df_cops[\"EXCLUSION_REASON\"] = \"Not Applicable\"\n",
    "\n",
    "# Moves Notes to very end of df\n",
    "df_cops[\"NOTES\"] = df_cops.pop(\"NOTES\") "
   ]
  },
  {
   "cell_type": "code",
   "execution_count": null,
   "id": "cee309c5-ace8-408c-bcfb-8ffdb1b7b612",
   "metadata": {},
   "outputs": [],
   "source": [
    "# Records each anomoly from anomoly-table to DMFS-Cops\n",
    "# Note that the only exclusion applied are extreme date discrepencies\n",
    "\n",
    "for i, anomolous_row in df_cop_anomolies.iterrows():\n",
    "    \n",
    "    # Finds the DMFS row in which there's an anomoly\n",
    "    hit = df_cops.query(f\"ORI9 == '{anomolous_row['ORI9']}' & DEATH_DATE == '{anomolous_row['Death_Date_Final']}'\")\n",
    "    dmfs_index_to_flag = hit.iloc[0].name\n",
    "\n",
    "    # Ensures there's only ONE row with that anomoly. There should never be mroe than 1 (or less than 1)\n",
    "    if hit.shape[0] != 1:\n",
    "        print(f\"ERROR - There's either >1 hit or 0 hits for [{anomolous_row['LEA']}]. There should only be exactly one hit - check the data.\")\n",
    "        assert False\n",
    "    \n",
    "    \n",
    "    # Records Anomoly in DMFS COps\n",
    "    df_cops.loc[dmfs_index_to_flag, \"ANOMOLY\"] = anomolous_row[\"Anomoly\"]\n",
    "\n",
    "    # After anomoly is recorded, flags for exclusion ONLY IF the anomoly is extreme - i.e., if it's an extreme date-related one    \n",
    "    if anomolous_row[\"Correction(s)\"] == \"Exclude & Change Date\":\n",
    "        df_cops.loc[dmfs_index_to_flag, \"EXCLUDE_DEATH\"] = True\n",
    "\n",
    "        # Calcualtes & Displays extreme date difference\n",
    "        date_delta = abs(anomolous_row[\"Death_Date_Final\"] - anomolous_row[\"Death_Date_Original\"]).days\n",
    "        print(f\"Flagging {anomolous_row['LEA']} for exclusion because of date delta: {date_delta}\")\n",
    "        df_cops.loc[dmfs_index_to_flag, \"EXCLUSION_REASON\"] = f\"Extreme date difference between date of injury and date of death: difference is greater than 6 months\"\n",
    "        "
   ]
  },
  {
   "cell_type": "markdown",
   "id": "d91b4e29-621b-44b3-b3ed-0e2a2a7735d3",
   "metadata": {},
   "source": [
    "### 2.4 | DM-FS: Officers. Flag rows for exclusion"
   ]
  },
  {
   "cell_type": "code",
   "execution_count": null,
   "id": "b6a39f8e-83cd-40f3-83a5-e96ef241accb",
   "metadata": {
    "scrolled": true
   },
   "outputs": [],
   "source": [
    "for i, ind_row in df_cops.iterrows():\n",
    "\n",
    "    # DO not override our previous date-related exclusions\n",
    "    if ind_row[\"EXCLUDE_DEATH\"]:\n",
    "        continue\n",
    "\n",
    "    # Add new exclusions based on invalid ORI or invalid Date Range\n",
    "    if ind_row[\"ORI9\"] == \"-1\":\n",
    "        df_cops.loc[i, \"EXCLUDE_DEATH\"] = True\n",
    "        df_cops.loc[i, \"EXCLUSION_REASON\"] = \"Invalid ORI9 code. Agency cannot be linked without valid identifier.\"\n",
    "    elif ind_row[\"COPS_AGENCY_LOST_365_DAYS_BEFORE_DEATH_ALL\"] == -1:\n",
    "        df_cops.loc[i, \"EXCLUDE_DEATH\"] = True\n",
    "        df_cops.loc[i, \"EXCLUSION_REASON\"] = \"Failed to meet minimum date. Death failed to occur after 12/31/2015, preventing us from measuring a 365 day period before death.\"\n",
    "    elif ind_row[\"COPS_AGENCY_LOST_365_DAYS_AFTER_DEATH\"] == -1:\n",
    "        df_cops.loc[i, \"EXCLUDE_DEATH\"] = True\n",
    "        df_cops.loc[i, \"EXCLUSION_REASON\"] = \"Failed to meet maximum date. Death failed to occur before 1/1/2020, preventing us from measuring a 365 day period after death.\"\n",
    "    "
   ]
  },
  {
   "cell_type": "code",
   "execution_count": null,
   "id": "55f95946-9230-4a7d-81fc-043309cf74f7",
   "metadata": {},
   "outputs": [],
   "source": [
    "df_cops[\"EXCLUSION_REASON\"].value_counts()"
   ]
  },
  {
   "cell_type": "markdown",
   "id": "ffb8e48a-4f05-436e-8386-1cd02e59256f",
   "metadata": {},
   "source": [
    "### 2.5 | DM-FS: Officers. Polish Columns"
   ]
  },
  {
   "cell_type": "code",
   "execution_count": null,
   "id": "907118c5-f63d-457b-9b70-eb26f0bd9f16",
   "metadata": {},
   "outputs": [],
   "source": [
    "# Makes all columns lower case & therefore more legible\n",
    "df_cops.columns = df_cops.columns.str.lower()\n",
    "df_cops.columns = df_cops.columns.str.replace(\"lea\", \"LEA\").str.replace(\"ori\", \"ORI\") # Capitalizes acronyms"
   ]
  },
  {
   "cell_type": "code",
   "execution_count": null,
   "id": "5d816ca4-f999-4890-9b54-9260a331366d",
   "metadata": {},
   "outputs": [],
   "source": [
    "# Moves columns around\n",
    "\n",
    "# Moves state abbreviation so it comes right after state\n",
    "df_cops = df_cops [ move_column(df_cops, col_name_to_move=\"region\", col_that_col_name_to_move_will_be_placed_after=\"state_abr\")  ]\n",
    "\n",
    "# Moves \"was ambush\" to killer section\n",
    "df_cops = df_cops [ move_column(df_cops, col_name_to_move=\"was_ambush\", col_that_col_name_to_move_will_be_placed_after=\"killer_crim_history\")  ]\n",
    "\n",
    "# Moves vignette info so they're by the \"flag\" section\n",
    "df_cops = df_cops [ move_column(df_cops, col_name_to_move=\"death_vignette\", col_that_col_name_to_move_will_be_placed_after=\"fplace\")  ]\n",
    "df_cops = df_cops [ move_column(df_cops, col_name_to_move=\"unique_vignette\", col_that_col_name_to_move_will_be_placed_after=\"death_vignette\")  ]\n"
   ]
  },
  {
   "cell_type": "code",
   "execution_count": null,
   "id": "38380037-251f-499d-848e-249297a870fc",
   "metadata": {},
   "outputs": [],
   "source": [
    "# Renames some columns to make them more consistent & intuitive\n",
    "df_cops = df_cops.rename(columns={\n",
    "    'was_ambush': 'killer_initiated_ambush',\n",
    "    'state_abr': 'LEA_state_abbreviation',\n",
    "    'region': 'LEA_region',\n",
    "})"
   ]
  },
  {
   "cell_type": "code",
   "execution_count": null,
   "id": "6cbae318-b1f8-43de-9235-f9006544405d",
   "metadata": {},
   "outputs": [],
   "source": [
    "# Replaces missing values\n",
    "df_cops[\"notes\"].fillna(\"No notes\", inplace=True) \n",
    "\n",
    "# The only remaining missing values are those derived from CSLLEA like LEA Type, subtype, county, district, etc. Thus, the only way they'd be NA is if the agency doesn't have an ORI code.\n",
    "# Thus, let's replace them with Not Applicable, just like we did with DMFS-Civ\n",
    "df_cops.fillna(\"Not Applicable\", inplace=True)"
   ]
  },
  {
   "cell_type": "code",
   "execution_count": null,
   "id": "bf38c357-dd3b-4a0e-882c-cb1296025674",
   "metadata": {},
   "outputs": [],
   "source": [
    "# Ensures there's no more NAs\n",
    "assert( df_cops.isnull().sum().all() == 0)\n",
    "print(\"Assertin passed. There are no more unknown / NaN / null values in DMFS - Officers\")"
   ]
  },
  {
   "cell_type": "markdown",
   "id": "e73c11b5-ee3b-43ac-8e88-2bc6218536e9",
   "metadata": {
    "jp-MarkdownHeadingCollapsed": true
   },
   "source": [
    "# 3 | Redactions, Add Source Material, DM-FS (Unabridged) Export"
   ]
  },
  {
   "cell_type": "markdown",
   "id": "12003193-c115-40f6-8e79-69163c80197a",
   "metadata": {},
   "source": [
    "### 3.1 | CSLLEA Redactions"
   ]
  },
  {
   "cell_type": "markdown",
   "id": "73f5dc39-8e18-4ef9-8b96-cc8d9e7188fd",
   "metadata": {},
   "source": [
    "We cannot redistribute data from the CSLLEA - owned by the ICPSR - until a license is negotiated. Thus, this code removes all CSLLEA data, and it replaces crucial CSLLEA data with a derivative."
   ]
  },
  {
   "cell_type": "code",
   "execution_count": null,
   "id": "1dba4dd9-38d9-4e6a-86c7-648ff4f8748a",
   "metadata": {
    "scrolled": true
   },
   "outputs": [],
   "source": [
    "unique_leas = list(df_civs['agency_responsible_1_ORI9']) + \\\n",
    "            list(df_civs['agency_responsible_2_ORI9']) + \\\n",
    "            list(df_civs['agency_responsible_3_ORI9']) + \\\n",
    "            list(df_civs['agency_responsible_4_ORI9']) + \\\n",
    "            list(df_civs['agency_responsible_5_ORI9']) + \\\n",
    "            list(df_cops['ORI9'])\n",
    "unique_leas = np.unique(unique_leas)\n",
    "\n",
    "print(f\"Unique LEAs = {len(unique_leas)}\")"
   ]
  },
  {
   "cell_type": "code",
   "execution_count": null,
   "id": "e06f472b-1522-43f8-8b91-fdc0c04552d4",
   "metadata": {},
   "outputs": [],
   "source": [
    "# Maps each LEA to a unique ID\n",
    "def generate_id(seed_value):\n",
    "    random.seed(seed_value) \n",
    "    return str(uuid.UUID(int=random.getrandbits(128)))[:8]  # Generate a reproducible UUID\n",
    "\n",
    "\n",
    "lea_id_mapping = {str(lea): generate_id(x) for x, lea in enumerate(unique_leas)}\n",
    "lea_id_mapping[\"-1\"] = \"-1\""
   ]
  },
  {
   "cell_type": "code",
   "execution_count": null,
   "id": "8230a416-f0b1-4ca3-9f75-c9125dab2a0b",
   "metadata": {
    "scrolled": true
   },
   "outputs": [],
   "source": [
    "# Maps each unique ID to an ORI for both dataframes\n",
    "\n",
    "# DMFS Cops\n",
    "df_cops[\"ORI9\"] = df_cops[\"ORI9\"].map(lea_id_mapping)\n",
    "df_cops.rename(columns={'ORI9': 'LEA_ID'}, inplace=True)\n",
    "\n",
    "# DMFS Civilians\n",
    "for x in range(1,6):\n",
    "    df_civs[f'agency_responsible_{x}_ORI9'] = df_civs[f'agency_responsible_{x}_ORI9'].map(lea_id_mapping)\n",
    "    df_civs.rename(columns={f'agency_responsible_{x}_ORI9': f'agency_responsible_{x}_LEA_ID'}, inplace=True)"
   ]
  },
  {
   "cell_type": "code",
   "execution_count": null,
   "id": "996cece4-20c6-4c67-be76-9b5cf50e57f1",
   "metadata": {},
   "outputs": [],
   "source": [
    "# Replaces CSLLEEA Classificaiton scheme \n",
    "lea_type_remap = {\n",
    "    '(000) Local police department': 'Local police department',\n",
    "    '(001) Sheriff\\'s office': 'Sheriff\\'s office',\n",
    "    '(005) State law enforcement agency': 'State law enforcement agency',\n",
    "    '(006) Special jurisdiction': 'Special jurisdiction',\n",
    "    '(007) Constable/Marshal': 'Constable/Marshal',\n",
    "}\n",
    "\n",
    "lea_subtype_remap = {\n",
    "    '(888) Not applicable': 'Not Applicable',\n",
    "    '(001) Public buildings/facilities': 'Public buildings/facilities',\n",
    "    '(003) Transportation systems/facilities': 'Transportation systems/facilities',\n",
    "    '(002) Natural resources/parks and recreation': 'Natural resources/parks and recreation',\n",
    "    '(004) Criminal investigations': 'Criminal investigations',\n",
    "    '(005) Special enforcement': 'Special enforcement',\n",
    "}\n"
   ]
  },
  {
   "cell_type": "code",
   "execution_count": null,
   "id": "ec1470f9-119c-44a3-bec3-5a1b45103d4f",
   "metadata": {},
   "outputs": [],
   "source": [
    "# Applies mapping to DMFS Cops\n",
    "df_cops [\"LEA_type\"] = df_cops [\"LEA_type\"].replace(lea_type_remap)\n",
    "df_cops [\"LEA_subtype_1\"] = df_cops [\"LEA_subtype_1\"].replace(lea_subtype_remap)\n",
    "df_cops.rename(columns={'LEA_subtype_1': 'LEA_subtype'}, inplace=True)\n",
    "df_cops.drop(columns=[\"LEA_subtype_2\"], inplace=True)\n",
    "\n",
    "# Applies mapping to DMFS Cops\n",
    "for x in range(1,6):\n",
    "    df_civs [f\"agency_responsible_{x}_LEA_TYPE\"] = df_civs [f\"agency_responsible_{x}_LEA_TYPE\"].replace(lea_type_remap)\n",
    "    df_civs [f\"agency_responsible_{x}_LEA_SUBTYPE_1\"] = df_civs [f\"agency_responsible_{x}_LEA_SUBTYPE_1\"].replace(lea_subtype_remap)\n",
    "    df_civs.rename(columns={f\"agency_responsible_{x}_LEA_SUBTYPE_1\": f\"agency_responsible_{x}_LEA_SUBTYPE\"}, inplace=True)\n",
    "    df_civs.drop(columns=[f\"agency_responsible_{x}_LEA_SUBTYPE_2\"], inplace=True)"
   ]
  },
  {
   "cell_type": "code",
   "execution_count": null,
   "id": "cd80da7f-ccd3-42a4-8b93-d11e2a6d4f23",
   "metadata": {},
   "outputs": [],
   "source": [
    "# Dops all other CSLLEA ingested data\n",
    "df_cops.drop(columns=[\"ORI7\", \"local_government_name\", \"district\", \"fips_state\", \"fips_county\", \"fcounty\", \"fplace\"], inplace=True)\n",
    "\n",
    "for x in range(1,6):\n",
    "    df_civs.drop(columns=[f\"agency_responsible_{x}_ORI7\", f\"agency_responsible_{x}_LOCAL_GOVERNMENT_NAME\", \n",
    "                          f\"agency_responsible_{x}_DISTRICT\", f\"agency_responsible_{x}_FIPS_STATE\", f\"agency_responsible_{x}_FIPS_COUNTY\"], inplace=True)"
   ]
  },
  {
   "cell_type": "code",
   "execution_count": null,
   "id": "a6a79b02-e641-4748-8d67-843db485a923",
   "metadata": {},
   "outputs": [],
   "source": [
    "# Adds anonymous IDs to our table of anomolies file (DMFS: Officers)\n",
    "df_anomolies = pd.read_csv('../Fatally Shot Officers/DM-FS Officers Supplement - Table of Anomolies.csv')\n",
    "\n",
    "df_anomolies[\"LEA_ID\"] = df_anomolies[\"ORI9\"].map(lea_id_mapping)\n",
    "\n",
    "df_anomolies.to_csv('../Fatally Shot Officers/DM-FS Officers Supplement - Table of Anomolies with LEA IDs.csv', index = False)"
   ]
  },
  {
   "cell_type": "markdown",
   "id": "c5f05b94-8431-40aa-af06-e0e2b9cf6214",
   "metadata": {},
   "source": [
    "### 3.2 | Sci Data Redactions (ARCHIVED)"
   ]
  },
  {
   "cell_type": "markdown",
   "id": "8ac3037a-69c0-439f-8cef-00249056bb5e",
   "metadata": {},
   "source": [
    "Through both our intial submission and R&R, the journal asked us to make the following redactions. They reversed their decision prior to publication; however, the original redactions appear below."
   ]
  },
  {
   "cell_type": "code",
   "execution_count": null,
   "id": "2ce25bc5-ebb1-4274-9913-d61982a11859",
   "metadata": {},
   "outputs": [],
   "source": [
    "# Civs - Redacts Date to just YYYY/MM\n",
    "#df_civs['death_date'] = df_civs['death_date'].dt.strftime('%Y-%m')"
   ]
  },
  {
   "cell_type": "code",
   "execution_count": null,
   "id": "74f31631-f1de-42d9-839e-c56283cd9d0a",
   "metadata": {},
   "outputs": [],
   "source": [
    "# Civs - Drops columns that contain identifying information\n",
    "#df_civs.drop(columns = [\"victim_name\", \"URL_FE\", \"URL_MPV\", \"URL_MANUAL_CORRECTION\"], inplace=True)"
   ]
  },
  {
   "cell_type": "code",
   "execution_count": null,
   "id": "ffb25055-09a5-4b41-abb4-ccc42460bcb8",
   "metadata": {},
   "outputs": [],
   "source": [
    "# Cops - Redacts Date to just YYYY/MM\n",
    "#df_cops['death_date'] = df_cops['death_date'].dt.strftime('%Y-%m')"
   ]
  },
  {
   "cell_type": "code",
   "execution_count": null,
   "id": "cbc36145-0a73-4d16-b38f-4571e0ef064d",
   "metadata": {},
   "outputs": [],
   "source": [
    "# Cops - Drops \n",
    "#df_cops.drop(columns=[\"death_vignette\", \"LEA_name\",], inplace=True)"
   ]
  },
  {
   "cell_type": "markdown",
   "id": "da6c1f12-37c2-44be-83c9-dd9ec74b8d9c",
   "metadata": {},
   "source": [
    "### 3.3 | Explicate Source Material"
   ]
  },
  {
   "cell_type": "markdown",
   "id": "da650b12-27fa-4fdd-bee7-0cc2541e17eb",
   "metadata": {},
   "source": [
    "The journal requires a URL to the original source material that each datapoint came from. This section implements that requirement"
   ]
  },
  {
   "cell_type": "code",
   "execution_count": null,
   "id": "fc744988-a18a-458a-93e8-c2bdd605c85c",
   "metadata": {},
   "outputs": [],
   "source": [
    "# DM-FS Civs. Create columns that contain the URLs from the databases from which each datapoint was derived\n",
    "\n",
    "# If a datapoint came from Fatal Encounters, list the URL\n",
    "df_civs['source_FE'] = df_civs['included_in_fe'].replace( {True: \"https://fatalencounters.org/\",  False: \"Not Applicable\"} )\n",
    "\n",
    "# If a datapoint came from Mapping Police Violence, list the URL\n",
    "df_civs['source_MPV'] = df_civs['included_in_mpv'].replace( {True: \"https://mappingpoliceviolence.org/\", False: \"Not Applicable\"} )\n",
    "\n",
    "# If a datapoint came from Washignton Post, list the URL\n",
    "df_civs['source_WP'] = df_civs['included_in_wp'].replace( {True: \"https://github.com/washingtonpost/data-police-shootings/tree/master/v2\", False: \"Not Applicable\"} )"
   ]
  },
  {
   "cell_type": "code",
   "execution_count": null,
   "id": "cdc54b57-1a3d-4dfe-a421-e9f2e7741a99",
   "metadata": {},
   "outputs": [],
   "source": [
    "# Sanity Check\n",
    "assert not ((df_civs['source_FE'] == \"Not Applicable\") & \n",
    "            (df_civs['source_MPV'] == \"Not Applicable\") & \n",
    "            (df_civs['source_WP'] == \"Not Applicable\")).any(), \\\n",
    "    \"At least one datapoint in DM-FS Civilians doesn't have any source material\"\n",
    "\n",
    "print(\"Assertion passed! All datapoints in DM-FS Civilians have their source listed.\")"
   ]
  },
  {
   "cell_type": "code",
   "execution_count": null,
   "id": "f725994f-8c5b-4bc3-973d-020bb1beb067",
   "metadata": {},
   "outputs": [],
   "source": [
    "# DM-Officers. Explicate the LEOKA report from which the data was extracted.\n",
    "\n",
    "# Use death year as a heuristic for which LEOKA report the officer belonged to.\n",
    "# For example, if they died in 2015, they almost certainly appeared in the 2015 LEOKA report.\n",
    "df_cops['death_date'] = pd.to_datetime(df_cops['death_date'])\n",
    "df_cops['LEOKA_year'] = df_cops['death_date'].dt.year\n",
    "\n",
    "# However, there were some exceptoins --- some datapoints in which the death date does not correspond to the LEOKA year in which the death appeared in\n",
    "# An enumerated list of these exceptions appears in the Technical Validation Tables, under Table 1 - LEOKA Anomolies and Their Correction.csv\n",
    "# Let's manually read this table and apply the corrections - i.e., those in which the death year does not correspond to the LEOKA report\n",
    "\n",
    "# Fatally wounded in 2014, appeared in LEOKA 2015\n",
    "df_cops.loc[\n",
    "    (df_cops['LEA_ID'] == 'e6180c7a') & (df_cops['death_date'] == pd.to_datetime(\"10/16/2014\")), # Search Condition\n",
    "    'LEOKA_year'] = 2015 # Value to change\n",
    "\n",
    "# Fatally wounded in 2012, appeared in LEOKA 2017\n",
    "df_cops.loc[\n",
    "    (df_cops['LEA_ID'] == '6ba6362e') & (df_cops['death_date'] == pd.to_datetime(\"2/8/2012\")),\n",
    "    'LEOKA_year'] = 2017\n",
    "\n",
    "# Fatally wounded in 1988, appeared in LEOKA 2017\n",
    "df_cops.loc[\n",
    "    (df_cops['LEA_ID'] == 'bdf88814') & (df_cops['death_date'] == pd.to_datetime(\"7/14/1988\")),\n",
    "    'LEOKA_year'] = 2017\n",
    "\n",
    "# Fatally wounded in 1994, appeared in LEOKA 2018\n",
    "df_cops.loc[\n",
    "    (df_cops['LEA_ID'] == '2792fd11') & (df_cops['death_date'] == pd.to_datetime(\"12/10/1994\")),\n",
    "    'LEOKA_year'] = 2018\n",
    "\n",
    "# Fatally wounded in 2007, appeared in LEOKA 2018\n",
    "df_cops.loc[\n",
    "    (df_cops['LEA_ID'] == '-1') & (df_cops['death_date'] == pd.to_datetime(\"6/18/2007\")),\n",
    "    'LEOKA_year'] = 2018\n",
    "\n",
    "# Fatally wounded in 2003, appeared in LEOKA 2020\n",
    "df_cops.loc[\n",
    "    (df_cops['LEA_ID'] == '855c3c27') & (df_cops['death_date'] == pd.to_datetime(\"11/12/2003\")),\n",
    "    'LEOKA_year'] = 2020"
   ]
  },
  {
   "cell_type": "code",
   "execution_count": null,
   "id": "37471f29-5082-4806-9851-54fb362ac1e1",
   "metadata": {},
   "outputs": [],
   "source": [
    "# Finally, add a URL to the original LEOKA report:\n",
    "df_cops['LEOKA_URL'] = df_cops['LEOKA_year'].replace( {2015: \"https://ucr.fbi.gov/leoka/2015/officers-feloniously-killed/leoka-felonious-summaries-2015\", \n",
    "                                                       2016: \"https://ucr.fbi.gov/leoka/2016/officers-feloniously-killed/leoka-felonious-summaries-2016\",\n",
    "                                                      2017 : \"https://ucr.fbi.gov/leoka/2017/resource-pages/felonious-summaries\",\n",
    "                                                      2018 : \"https://ucr.fbi.gov/leoka/2018/resource-pages/summaries-officers-feloniously-killed\",\n",
    "                                                      2019 : \"https://ucr.fbi.gov/leoka/2019/resource-pages/summaries-officers-feloniously-killed\",\n",
    "                                                      2020 : \"https://cde.ucr.cjis.gov/LATEST/webapp/\",} )"
   ]
  },
  {
   "cell_type": "code",
   "execution_count": null,
   "id": "ac0bbcc0-c827-4569-9c32-8075b39fa92d",
   "metadata": {},
   "outputs": [],
   "source": [
    "# Ensures DM-FS Cops has source URLs\n",
    "assert df_cops['LEOKA_URL'].notna().all(), \"There are null values in the LEOKA_URL column.\"\n",
    "assert df_cops['LEOKA_URL'].str.strip().ne(\"\").all(), \"There are empty strings in the LEOKA_URL column.\"\n",
    "\n",
    "print(\"Assertions passed. Each datapoint in DM-FS Officers has a URL to its source material\")"
   ]
  },
  {
   "cell_type": "markdown",
   "id": "a8aa08bc-14e8-42e6-8a38-580a8b4cdcf3",
   "metadata": {},
   "source": [
    "### 3.4 | Export DM-FS Officers & Civilians"
   ]
  },
  {
   "cell_type": "code",
   "execution_count": null,
   "id": "2b4a0193-6202-4610-ab3f-64a36163c09f",
   "metadata": {},
   "outputs": [],
   "source": [
    "# DM-FS CIVILIANS\n",
    "\n",
    "# Assigns victim_ID to index\n",
    "df_civs.index.name = 'victim_ID' \n",
    "\n",
    "# Exports\n",
    "df_civs.to_csv(\"../DMFS - Civilians.csv\", index = True)"
   ]
  },
  {
   "cell_type": "code",
   "execution_count": null,
   "id": "de512b9f-3e68-4147-b4c4-96b32c50790b",
   "metadata": {},
   "outputs": [],
   "source": [
    "# DM-FS OFFICERS\n",
    "\n",
    "# Assigns victim_ID to index\n",
    "df_cops.index.name = 'incident_ID' \n",
    "\n",
    "# Exports\n",
    "df_cops.to_csv(\"../DMFS - Officers.csv\", index = True)"
   ]
  },
  {
   "cell_type": "markdown",
   "id": "25f7dd36-7530-422e-aeef-f49b0514d708",
   "metadata": {
    "jp-MarkdownHeadingCollapsed": true
   },
   "source": [
    "# 4 | Creates DM-FS (Cleaned) by Applying Filtering & Subsetting"
   ]
  },
  {
   "cell_type": "markdown",
   "id": "e2b30f16-ebdd-4952-9ee2-bab93a899d9b",
   "metadata": {},
   "source": [
    "### 4.1 | Aux Functions"
   ]
  },
  {
   "cell_type": "code",
   "execution_count": null,
   "id": "7ff207cc-f889-4831-b0fb-91851db5f955",
   "metadata": {},
   "outputs": [],
   "source": [
    "# Takes a series e.g., df['race'] and displays the values alongside counts\n",
    "\n",
    "def display_count_alongside_percentage(display_series, title):\n",
    "    print(title)\n",
    "    value_counts = display_series.value_counts()\n",
    "    total_count = value_counts.sum()\n",
    "    for index, count in value_counts.items():\n",
    "        percentage = round( (count / total_count) * 100, 2)\n",
    "        print(f\"{index} = {count} ({percentage:.2f}%)\")\n",
    "    print(f\"{'-'*20}\")\n",
    "    print(\"Total = \",total_count)"
   ]
  },
  {
   "cell_type": "markdown",
   "id": "8c22daaf-9592-468f-ae9c-87c1ffbd5bd0",
   "metadata": {},
   "source": [
    "### 4.2 | DMFS Officers"
   ]
  },
  {
   "cell_type": "code",
   "execution_count": null,
   "id": "d3d37760-077c-4c26-a5cd-bdc9b45dafbc",
   "metadata": {},
   "outputs": [],
   "source": [
    "df_cops.head(0)"
   ]
  },
  {
   "cell_type": "code",
   "execution_count": null,
   "id": "59a46871-b48f-48af-89f4-188fefad1618",
   "metadata": {},
   "outputs": [],
   "source": [
    "# Displays exclusion reasons\n",
    "display_count_alongside_percentage(df_cops[\"exclusion_reason\"], \"Exclusions in DMFS-Officers\")\n",
    "\n",
    "# Applies exclusions\n",
    "df_cops = df_cops[ ~ df_cops[\"exclude_death\"] ]\n",
    "print(\"Final size = \", df_cops.shape[0])"
   ]
  },
  {
   "cell_type": "code",
   "execution_count": null,
   "id": "cc6607d4-e5a9-4b9b-9d3e-8df1689cfef3",
   "metadata": {
    "scrolled": true
   },
   "outputs": [],
   "source": [
    "# Drop non-essential columns in subsetted DF\n",
    "#df_cops =  df_cops.rename(columns={'ORI9': 'ORI_code',})\n",
    "df_cops.drop(columns=[\"exclude_death\", \"exclusion_reason\", \"anomoly\",], inplace = True)"
   ]
  },
  {
   "cell_type": "code",
   "execution_count": null,
   "id": "08d6ec98-354e-4dbb-ab65-c170f675b917",
   "metadata": {},
   "outputs": [],
   "source": [
    "df_cops.to_csv(\"../DM-FS Officers (cleaned).csv\", index=True)"
   ]
  },
  {
   "cell_type": "markdown",
   "id": "bf10a1ea-cf17-4ec4-a2ff-3b220972e6f3",
   "metadata": {},
   "source": [
    "### 4.3 | DMFS Civilians"
   ]
  },
  {
   "cell_type": "code",
   "execution_count": null,
   "id": "3dc326bc-f99c-4ad3-8426-61e69ed55f71",
   "metadata": {
    "scrolled": true
   },
   "outputs": [],
   "source": [
    "# Drops victims who were killed by an agency without a valid ORI\n",
    "drop_counter = 0\n",
    "original_size = df_civs.shape[0]\n",
    "\n",
    "size_before_exclusions = df_civs.shape[0]\n",
    "df_civs = df_civs.query(\"agency_responsible_1_LEA_ID != '-1' | agency_responsible_2_LEA_ID != '-1' |  agency_responsible_3_LEA_ID != '-1' |  agency_responsible_4_LEA_ID != '-1' | agency_responsible_5_LEA_ID != '-1'\")\n",
    "rows_dropped = (size_before_exclusions - df_civs.shape[0])\n",
    "drop_counter += rows_dropped\n",
    "\n",
    "\n",
    "print(f\" Dropped {rows_dropped} rows due to non-valid ORI codes  ({round(rows_dropped / original_size * 100, 2)}% of all rows)\")"
   ]
  },
  {
   "cell_type": "code",
   "execution_count": null,
   "id": "c00eb1a2-c1a1-4a09-832e-351b474b88d7",
   "metadata": {},
   "outputs": [],
   "source": [
    "# Drops victims who fell BEFORE our date range\n",
    "size_before_exclusions = df_civs.shape[0]\n",
    "df_civs = df_civs.query(\"civilians_fatally_shot_by_agency_responsible_1_365_days_before_death != -1 | civilians_fatally_shot_by_agency_responsible_2_365_days_before_death != -1 | \"\n",
    "                        \"civilians_fatally_shot_by_agency_responsible_3_365_days_before_death != -1 | civilians_fatally_shot_by_agency_responsible_4_365_days_before_death != -1 | \"\n",
    "                       \"civilians_fatally_shot_by_agency_responsible_5_365_days_before_death != -1\")\n",
    "rows_dropped = (size_before_exclusions - df_civs.shape[0])\n",
    "drop_counter += rows_dropped\n",
    "\n",
    "\n",
    "print(f\" Dropped {rows_dropped} rows due to the death occuring during/before 12/31/2015, as before that point, we cannot accurately measure fatal shootings 365 days before death\"\n",
    "      f\"({round(rows_dropped / original_size * 100, 2)}% of all rows)\")"
   ]
  },
  {
   "cell_type": "code",
   "execution_count": null,
   "id": "e74e835f-8a0d-4639-a21d-ebad97bd5780",
   "metadata": {},
   "outputs": [],
   "source": [
    "# Drops victims who fell BEFORE our date range\n",
    "size_before_exclusions = df_civs.shape[0]\n",
    "df_civs = df_civs.query(\"civilians_fatally_shot_by_agency_responsible_1_365_days_after_death != -1 | civilians_fatally_shot_by_agency_responsible_2_365_days_after_death != -1 | \"\n",
    "                        \"civilians_fatally_shot_by_agency_responsible_3_365_days_after_death != -1 | civilians_fatally_shot_by_agency_responsible_4_365_days_after_death != -1 | \"\n",
    "                       \"civilians_fatally_shot_by_agency_responsible_5_365_days_after_death != -1\")\n",
    "rows_dropped = (size_before_exclusions - df_civs.shape[0])\n",
    "drop_counter += rows_dropped\n",
    "print(f\" Dropped {rows_dropped} rows due to the death occuring during/before 1/1/2020, as before that point, we cannot accurately measure fatal shootings 365 days after death\"\n",
    "      f\"({round(rows_dropped / original_size * 100, 2)}% of all rows)\")\n",
    "\n",
    "# Total exclusions\n",
    "print(f\"{'*'*30}\\nTOTAL EXCLUSIONS = {drop_counter}/{original_size} ({round(rows_dropped / original_size * 100, 2)}%)\")"
   ]
  },
  {
   "cell_type": "code",
   "execution_count": null,
   "id": "3c7e13c6-8add-4c7e-80ff-898c2f0e77ac",
   "metadata": {},
   "outputs": [],
   "source": [
    "# Drop columns\n",
    "\n",
    "original_col_count = df_civs.shape[1]\n",
    "\n",
    "# Drops all discrepancy columns\n",
    "start_idx = df_civs.columns.get_loc(\"date_fe\")\n",
    "end_idx = df_civs.columns.get_loc(\"date_discrepancy_days\")\n",
    "df_civs.drop(columns=df_civs.columns[start_idx:end_idx+1], inplace = True)\n",
    "\n",
    "print(f\"Dropped {original_col_count - df_civs.shape[1]} columns (Original = {original_col_count})\")"
   ]
  },
  {
   "cell_type": "code",
   "execution_count": null,
   "id": "b0425852-4cfe-4a42-a9fe-7936d2938dbb",
   "metadata": {},
   "outputs": [],
   "source": [
    "# Export\n",
    "df_civs.to_csv(\"../DMFS Civilians (cleaned).csv\", index=True)"
   ]
  },
  {
   "cell_type": "code",
   "execution_count": null,
   "id": "cc6fc028-a077-41a1-aa83-7c777834c3bc",
   "metadata": {},
   "outputs": [],
   "source": []
  }
 ],
 "metadata": {
  "kernelspec": {
   "display_name": "dmfs_python_virtual_environment",
   "language": "python",
   "name": "dmfs_python_virtual_environment"
  },
  "language_info": {
   "codemirror_mode": {
    "name": "ipython",
    "version": 3
   },
   "file_extension": ".py",
   "mimetype": "text/x-python",
   "name": "python",
   "nbconvert_exporter": "python",
   "pygments_lexer": "ipython3",
   "version": "3.9.0"
  }
 },
 "nbformat": 4,
 "nbformat_minor": 5
}
